{
 "cells": [
  {
   "cell_type": "markdown",
   "id": "nVV3YpTIkebT",
   "metadata": {
    "id": "nVV3YpTIkebT"
   },
   "source": [
    "## Install & import dependencies"
   ]
  },
  {
   "cell_type": "code",
   "execution_count": 14,
   "id": "ZXZEOaZwkeso",
   "metadata": {
    "colab": {
     "base_uri": "https://localhost:8080/"
    },
    "id": "ZXZEOaZwkeso",
    "outputId": "ec820b26-98e5-41db-b67a-611f7b90d6a2"
   },
   "outputs": [],
   "source": [
    "# Install dependencies needed\n",
    "# !pip install pycountry"
   ]
  },
  {
   "cell_type": "code",
   "execution_count": 15,
   "id": "otNQbHlPkNkx",
   "metadata": {
    "id": "otNQbHlPkNkx"
   },
   "outputs": [],
   "source": [
    "import pandas as pd\n",
    "import plotly.express as px\n",
    "import plotly.graph_objects as go\n",
    "from IPython.display import display\n",
    "from statistics import mean\n",
    "import json\n",
    "import math\n",
    "import pycountry"
   ]
  },
  {
   "cell_type": "markdown",
   "id": "C1ofr4yvPV4k",
   "metadata": {
    "id": "C1ofr4yvPV4k"
   },
   "source": [
    "## Read WFP food prices (1991-2021)"
   ]
  },
  {
   "cell_type": "code",
   "execution_count": 16,
   "id": "X5yQMM01PS_r",
   "metadata": {
    "colab": {
     "base_uri": "https://localhost:8080/"
    },
    "id": "X5yQMM01PS_r",
    "outputId": "f597ed3a-044b-4630-ef26-6bcb3191b599"
   },
   "outputs": [
    {
     "name": "stderr",
     "output_type": "stream",
     "text": [
      "/opt/homebrew/lib/python3.9/site-packages/IPython/core/interactiveshell.py:3169: DtypeWarning: Columns (3) have mixed types.Specify dtype option on import or set low_memory=False.\n",
      "  has_raised = await self.run_ast_nodes(code_ast.body, cell_name,\n"
     ]
    }
   ],
   "source": [
    "df = pd.read_csv('wfpvam_foodprices.csv')"
   ]
  },
  {
   "cell_type": "code",
   "execution_count": 17,
   "id": "TlmeqhkHPRDp",
   "metadata": {
    "id": "TlmeqhkHPRDp"
   },
   "outputs": [],
   "source": [
    "countrylist = df.adm0_name.unique()\n",
    "commodity_nparray = df.cm_name.unique()\n",
    "commodity_list_floats = commodity_nparray.tolist()\n",
    "commodity_list = map(str, commodity_list_floats)"
   ]
  },
  {
   "cell_type": "markdown",
   "id": "afmzkQTZ8Lw1",
   "metadata": {
    "id": "afmzkQTZ8Lw1"
   },
   "source": [
    "## Filter WFP food prices to include only cereal food prices in 2020 & 2021"
   ]
  },
  {
   "cell_type": "code",
   "execution_count": 18,
   "id": "LQWN-MG9jZvw",
   "metadata": {
    "id": "LQWN-MG9jZvw"
   },
   "outputs": [],
   "source": [
    "cereal_commodity_list = [\n",
    "    \"Wheat - Retail\",\n",
    "    \"Rice (low quality) - Retail\",\n",
    "    \"Wheat flour (high quality) - Retail\",\n",
    "    \"Rice (high quality) - Retail\",\n",
    "    \"Wheat flour (low quality) - Retail\",\n",
    "    \"Maize flour - Retail\",\n",
    "    \"Rice (regular, milled) - Retail\",\n",
    "    \"Wheat - Wholesale\",\n",
    "    \"Wheat flour - Retail\",\n",
    "    \"Rice (white) - Retail\",\n",
    "    \"Maize (yellow) - Wholesale\",\n",
    "    \"Rice (coarse) - Retail\",\n",
    "    \"Wheat flour - Wholesale\",\n",
    "    \"Rice (medium grain) - Wholesale\",\n",
    "    \"Rice (medium grain) - Retail\",\n",
    "    \"Rice (coarse, BR-8/ 11/, Guti Sharna) - Wholesale\",\n",
    "    \"Rice (coarse, BR-8/ 11/, Guti Sharna) - Retail\",\n",
    "    \"Rice - Retail\",\n",
    "    \"Rice - Wholesale\",\n",
    "    \"Rice (imported) - Retail\",\n",
    "    \"Sorghum - Retail\",\n",
    "    \"Maize (white) - Retail\",\n",
    "    \"Rice (local) - Retail\",\n",
    "    \"Millet - Retail\",\n",
    "    \"Sorghum (red) - Retail\",\n",
    "    \"Wheat flour (imported) - Retail\",\n",
    "    \"Rice (paddy) - Retail\",\n",
    "    \"Maize - Retail\",\n",
    "    \"Rice (estaquilla) - Retail\",\n",
    "    \"Wheat flour (local) - Wholesale\",\n",
    "    \"Rice (ordinary, first quality) - Wholesale\",\n",
    "    \"Rice (ordinary, second quality) - Wholesale\",\n",
    "    \"Wheat flour (imported) - Wholesale\",\n",
    "    \"Rice (Grano de Oro) - Retail\",\n",
    "    \"Rice (carolina 2da) - Retail\",\n",
    "    \"Rice (carolina, 1st) - Retail\",\n",
    "    \"Rice (long grain) - Retail\",\n",
    "    \"Sorghum (white) - Retail\",\n",
    "    \"Rice (imported) - Wholesale\",\n",
    "    \"Millet - Wholesale\",\n",
    "    \"Sorghum (local) - Wholesale\",\n",
    "    \"Rice (high quality, local) - Retail\",\n",
    "    \"Rice (low quality, local) - Retail\",\n",
    "    \"Maize - Wholesale\",\n",
    "    \"Rice (mixed, low quality) - Wholesale\",\n",
    "    \"Rice (mixed, low quality) - Retail\",\n",
    "    \"Rice (long grain, imported) - Retail\",\n",
    "    \"Sorghum (red) - Wholesale\",\n",
    "    \"Maize (yellow) - Retail\",\n",
    "    \"Maize (white) - Wholesale\",\n",
    "    \"Rice (local) - Wholesale\",\n",
    "    \"Sorghum (white) - Wholesale\",\n",
    "    \"Rice (long grain, imported) - Wholesale\",\n",
    "    \"Maize (local) - Retail\",\n",
    "    \"Rice (broken, imported) - Retail\",\n",
    "    \"Sorghum (berbere) - Retail\",\n",
    "    \"Rice (Indica) - Wholesale\",\n",
    "    \"Rice (Japonica) - Wholesale\",\n",
    "    \"Wheat flour (first grade) - Wholesale\",\n",
    "    \"Maize (local) - Wholesale\",\n",
    "    \"Rice (white) - Wholesale\",\n",
    "    \"Rice (paddy) - Wholesale\",\n",
    "    \"Rice (high quality) - Wholesale\",\n",
    "    \"Maize flour - Wholesale\",\n",
    "    \"Rice (denikassia, imported) - Retail\",\n",
    "    \"Maize meal - Retail\",\n",
    "    \"Maize meal (imported) - Retail\",\n",
    "    \"Rice (ordinary, first quality) - Retail\",\n",
    "    \"Rice (ordinary, second quality) - Retail\",\n",
    "    \"Rice (long grain) - Wholesale\",\n",
    "    \"Rice (short grain, low quality, local) - Wholesale\",\n",
    "    \"Maize (white, dry) - Wholesale\",\n",
    "    \"Wheat (imported) - Wholesale\",\n",
    "    \"Sorghum - Wholesale\",\n",
    "    \"Wheat (white) - Wholesale\",\n",
    "    \"Wheat (white) - Retail\",\n",
    "    \"Sorghum (mixed) - Wholesale\",\n",
    "    \"Wheat (mixed) - Wholesale\",\n",
    "    \"Wheat (mixed) - Retail\",\n",
    "    \"Millet (finger) - Retail\",\n",
    "    \"Wheat (food aid) - Retail\",\n",
    "    \"Maize (food aid) - Retail\",\n",
    "    \"Sorghum (food aid) - Retail\",\n",
    "    \"Rice (paddy, long grain, local) - Retail\",\n",
    "    \"Rice (basmati, broken) - Retail\",\n",
    "    \"Rice (medium grain, imported) - Retail\",\n",
    "    \"Rice (small grain, imported) - Retail\",\n",
    "    \"Rice (tchako) - Retail\",\n",
    "    \"Maize meal (local) - Retail\",\n",
    "    \"Rice (medium quality) - Retail\",\n",
    "    \"Rice (glutinous, unmilled) - Retail\",\n",
    "    \"Wheat flour (first grade) - Retail\",\n",
    "    \"Rice (glutinous, first quality) - Retail\",\n",
    "    \"Rice (glutinous, second quality) - Retail\",\n",
    "    \"Rice (ordinary, unmilled) - Retail\",\n",
    "    \"Rice (imported, Egyptian) - Retail\",\n",
    "    \"Rice (white, imported) - Retail\",\n",
    "    \"Maize (crushed) - Retail\",\n",
    "    \"Sorghum (taghalit) - Retail\",\n",
    "    \"Wheat meal - Retail\",\n",
    "    \"Feed (wheat bran) - Retail\",\n",
    "    \"Sorghum (r'haya) - Retail\",\n",
    "    \"Rice (long grain, Sinaloa) - Wholesale\",\n",
    "    \"Rice (small grain, Morelos) - Wholesale\",\n",
    "    \"Wheat flour (local) - Retail\",\n",
    "    \"Maize meal (white, first grade) - Retail\",\n",
    "    \"Maize meal (white, with bran) - Retail\",\n",
    "    \"Maize meal (white, without bran) - Retail\",\n",
    "    \"Rice (milled 80-20) - Retail\",\n",
    "    \"Tortilla (maize) - Retail\",\n",
    "    \"Rice (low quality) - Wholesale\",\n",
    "    \"Sorghum (brown) - Wholesale\",\n",
    "    \"Sorghum (brown) - Retail\",\n",
    "    \"Rice (milled, local) - Wholesale\",\n",
    "    \"Rice (regular, milled) - Wholesale\",\n",
    "    \"Wheat flour (locally processed) - Retail\",\n",
    "    \"Rice (milled, superior) - Wholesale\",\n",
    "    \"Rice (milled, superior) - Retail\",\n",
    "    \"Rice (well milled) - Retail\",\n",
    "    \"Rice (special) - Retail\",\n",
    "    \"Rice (premium) - Retail\",\n",
    "    \"Maize flour (yellow) - Retail\",\n",
    "    \"Maize flour (white) - Wholesale\",\n",
    "    \"Maize flour (white) - Retail\",\n",
    "    \"Maize flour (yellow) - Wholesale\",\n",
    "    \"Wheat flour (high grade) - Wholesale\",\n",
    "    \"Rice (long grain, high quality, local) - Retail\",\n",
    "    \"Maize flour (imported) - Retail\",\n",
    "    \"Maize (imported) - Retail\",\n",
    "    \"Millet (white) - Retail\",\n",
    "    \"Sorghum flour - Retail\",\n",
    "    \"Sorghum (white, imported) - Wholesale\",\n",
    "    \"Sorghum (white, imported) - Retail\",\n",
    "    \"Sorghum (local) - Retail\",\n",
    "    \"Milling cost (sorghum) - Retail\",\n",
    "    \"Milling cost (maize) - Retail\",\n",
    "    \"Sorghum (red, local) - Wholesale\",\n",
    "    \"Sorghum (red, local) - Retail\",\n",
    "    \"Rice (red nadu) - Wholesale\",\n",
    "    \"Rice (red nadu) - Retail\",\n",
    "    \"Rice (red) - Wholesale\",\n",
    "    \"Rice (red) - Retail\",\n",
    "    \"Rice (short grain, low quality, local) - Retail\",\n",
    "    \"Millet (bulrush) - Wholesale\",\n",
    "    \"Millet (finger) - Wholesale\",\n",
    "    \"Milling cost (wheat) - Retail\",\n",
    "    \"Maize meal (white, roller) - Retail\",\n",
    "    \"Maize meal (white, breakfast) - Retail\"\n",
    "]"
   ]
  },
  {
   "cell_type": "code",
   "execution_count": 19,
   "id": "nQuEIWBEIHC0",
   "metadata": {
    "colab": {
     "base_uri": "https://localhost:8080/",
     "height": 0
    },
    "id": "nQuEIWBEIHC0",
    "outputId": "f076d39c-6920-4a75-a9ba-22a3e11292f4"
   },
   "outputs": [
    {
     "data": {
      "text/html": [
       "<div>\n",
       "<style scoped>\n",
       "    .dataframe tbody tr th:only-of-type {\n",
       "        vertical-align: middle;\n",
       "    }\n",
       "\n",
       "    .dataframe tbody tr th {\n",
       "        vertical-align: top;\n",
       "    }\n",
       "\n",
       "    .dataframe thead th {\n",
       "        text-align: right;\n",
       "    }\n",
       "</style>\n",
       "<table border=\"1\" class=\"dataframe\">\n",
       "  <thead>\n",
       "    <tr style=\"text-align: right;\">\n",
       "      <th></th>\n",
       "      <th>adm0_id</th>\n",
       "      <th>adm0_name</th>\n",
       "      <th>adm1_id</th>\n",
       "      <th>adm1_name</th>\n",
       "      <th>mkt_id</th>\n",
       "      <th>mkt_name</th>\n",
       "      <th>cm_id</th>\n",
       "      <th>cm_name</th>\n",
       "      <th>cur_id</th>\n",
       "      <th>cur_name</th>\n",
       "      <th>pt_id</th>\n",
       "      <th>pt_name</th>\n",
       "      <th>um_id</th>\n",
       "      <th>um_name</th>\n",
       "      <th>mp_month</th>\n",
       "      <th>mp_year</th>\n",
       "      <th>mp_price</th>\n",
       "      <th>mp_commoditysource</th>\n",
       "    </tr>\n",
       "  </thead>\n",
       "  <tbody>\n",
       "    <tr>\n",
       "      <th>69</th>\n",
       "      <td>1.0</td>\n",
       "      <td>Afghanistan</td>\n",
       "      <td>272</td>\n",
       "      <td>Badakhshan</td>\n",
       "      <td>266</td>\n",
       "      <td>Fayzabad</td>\n",
       "      <td>55</td>\n",
       "      <td>Bread - Retail</td>\n",
       "      <td>0.0</td>\n",
       "      <td>AFN</td>\n",
       "      <td>15</td>\n",
       "      <td>Retail</td>\n",
       "      <td>5</td>\n",
       "      <td>KG</td>\n",
       "      <td>1</td>\n",
       "      <td>2020</td>\n",
       "      <td>50.0000</td>\n",
       "      <td>NaN</td>\n",
       "    </tr>\n",
       "    <tr>\n",
       "      <th>70</th>\n",
       "      <td>1.0</td>\n",
       "      <td>Afghanistan</td>\n",
       "      <td>272</td>\n",
       "      <td>Badakhshan</td>\n",
       "      <td>266</td>\n",
       "      <td>Fayzabad</td>\n",
       "      <td>55</td>\n",
       "      <td>Bread - Retail</td>\n",
       "      <td>0.0</td>\n",
       "      <td>AFN</td>\n",
       "      <td>15</td>\n",
       "      <td>Retail</td>\n",
       "      <td>5</td>\n",
       "      <td>KG</td>\n",
       "      <td>2</td>\n",
       "      <td>2020</td>\n",
       "      <td>50.0000</td>\n",
       "      <td>NaN</td>\n",
       "    </tr>\n",
       "    <tr>\n",
       "      <th>71</th>\n",
       "      <td>1.0</td>\n",
       "      <td>Afghanistan</td>\n",
       "      <td>272</td>\n",
       "      <td>Badakhshan</td>\n",
       "      <td>266</td>\n",
       "      <td>Fayzabad</td>\n",
       "      <td>55</td>\n",
       "      <td>Bread - Retail</td>\n",
       "      <td>0.0</td>\n",
       "      <td>AFN</td>\n",
       "      <td>15</td>\n",
       "      <td>Retail</td>\n",
       "      <td>5</td>\n",
       "      <td>KG</td>\n",
       "      <td>3</td>\n",
       "      <td>2020</td>\n",
       "      <td>50.0000</td>\n",
       "      <td>NaN</td>\n",
       "    </tr>\n",
       "    <tr>\n",
       "      <th>72</th>\n",
       "      <td>1.0</td>\n",
       "      <td>Afghanistan</td>\n",
       "      <td>272</td>\n",
       "      <td>Badakhshan</td>\n",
       "      <td>266</td>\n",
       "      <td>Fayzabad</td>\n",
       "      <td>55</td>\n",
       "      <td>Bread - Retail</td>\n",
       "      <td>0.0</td>\n",
       "      <td>AFN</td>\n",
       "      <td>15</td>\n",
       "      <td>Retail</td>\n",
       "      <td>5</td>\n",
       "      <td>KG</td>\n",
       "      <td>4</td>\n",
       "      <td>2020</td>\n",
       "      <td>50.0000</td>\n",
       "      <td>NaN</td>\n",
       "    </tr>\n",
       "    <tr>\n",
       "      <th>275</th>\n",
       "      <td>1.0</td>\n",
       "      <td>Afghanistan</td>\n",
       "      <td>272</td>\n",
       "      <td>Badakhshan</td>\n",
       "      <td>266</td>\n",
       "      <td>Fayzabad</td>\n",
       "      <td>84</td>\n",
       "      <td>Wheat - Retail</td>\n",
       "      <td>0.0</td>\n",
       "      <td>AFN</td>\n",
       "      <td>15</td>\n",
       "      <td>Retail</td>\n",
       "      <td>5</td>\n",
       "      <td>KG</td>\n",
       "      <td>1</td>\n",
       "      <td>2020</td>\n",
       "      <td>25.3750</td>\n",
       "      <td>NaN</td>\n",
       "    </tr>\n",
       "    <tr>\n",
       "      <th>...</th>\n",
       "      <td>...</td>\n",
       "      <td>...</td>\n",
       "      <td>...</td>\n",
       "      <td>...</td>\n",
       "      <td>...</td>\n",
       "      <td>...</td>\n",
       "      <td>...</td>\n",
       "      <td>...</td>\n",
       "      <td>...</td>\n",
       "      <td>...</td>\n",
       "      <td>...</td>\n",
       "      <td>...</td>\n",
       "      <td>...</td>\n",
       "      <td>...</td>\n",
       "      <td>...</td>\n",
       "      <td>...</td>\n",
       "      <td>...</td>\n",
       "      <td>...</td>\n",
       "    </tr>\n",
       "    <tr>\n",
       "      <th>1960370</th>\n",
       "      <td>271.0</td>\n",
       "      <td>Zimbabwe</td>\n",
       "      <td>3444</td>\n",
       "      <td>Midlands</td>\n",
       "      <td>5585</td>\n",
       "      <td>Matibi</td>\n",
       "      <td>541</td>\n",
       "      <td>Handwash soap - Retail</td>\n",
       "      <td>0.0</td>\n",
       "      <td>ZWL</td>\n",
       "      <td>15</td>\n",
       "      <td>Retail</td>\n",
       "      <td>66</td>\n",
       "      <td>250 G</td>\n",
       "      <td>2</td>\n",
       "      <td>2021</td>\n",
       "      <td>80.3333</td>\n",
       "      <td>NaN</td>\n",
       "    </tr>\n",
       "    <tr>\n",
       "      <th>1960371</th>\n",
       "      <td>271.0</td>\n",
       "      <td>Zimbabwe</td>\n",
       "      <td>3444</td>\n",
       "      <td>Midlands</td>\n",
       "      <td>5585</td>\n",
       "      <td>Matibi</td>\n",
       "      <td>541</td>\n",
       "      <td>Handwash soap - Retail</td>\n",
       "      <td>0.0</td>\n",
       "      <td>ZWL</td>\n",
       "      <td>15</td>\n",
       "      <td>Retail</td>\n",
       "      <td>66</td>\n",
       "      <td>250 G</td>\n",
       "      <td>3</td>\n",
       "      <td>2021</td>\n",
       "      <td>20.3333</td>\n",
       "      <td>NaN</td>\n",
       "    </tr>\n",
       "    <tr>\n",
       "      <th>1960372</th>\n",
       "      <td>271.0</td>\n",
       "      <td>Zimbabwe</td>\n",
       "      <td>3444</td>\n",
       "      <td>Midlands</td>\n",
       "      <td>5585</td>\n",
       "      <td>Matibi</td>\n",
       "      <td>887</td>\n",
       "      <td>Fish (kapenta) - Retail</td>\n",
       "      <td>0.0</td>\n",
       "      <td>ZWL</td>\n",
       "      <td>15</td>\n",
       "      <td>Retail</td>\n",
       "      <td>5</td>\n",
       "      <td>KG</td>\n",
       "      <td>12</td>\n",
       "      <td>2020</td>\n",
       "      <td>1187.5000</td>\n",
       "      <td>NaN</td>\n",
       "    </tr>\n",
       "    <tr>\n",
       "      <th>1960373</th>\n",
       "      <td>271.0</td>\n",
       "      <td>Zimbabwe</td>\n",
       "      <td>3444</td>\n",
       "      <td>Midlands</td>\n",
       "      <td>5585</td>\n",
       "      <td>Matibi</td>\n",
       "      <td>887</td>\n",
       "      <td>Fish (kapenta) - Retail</td>\n",
       "      <td>0.0</td>\n",
       "      <td>ZWL</td>\n",
       "      <td>15</td>\n",
       "      <td>Retail</td>\n",
       "      <td>5</td>\n",
       "      <td>KG</td>\n",
       "      <td>2</td>\n",
       "      <td>2021</td>\n",
       "      <td>1123.3333</td>\n",
       "      <td>NaN</td>\n",
       "    </tr>\n",
       "    <tr>\n",
       "      <th>1960374</th>\n",
       "      <td>271.0</td>\n",
       "      <td>Zimbabwe</td>\n",
       "      <td>3444</td>\n",
       "      <td>Midlands</td>\n",
       "      <td>5585</td>\n",
       "      <td>Matibi</td>\n",
       "      <td>887</td>\n",
       "      <td>Fish (kapenta) - Retail</td>\n",
       "      <td>0.0</td>\n",
       "      <td>ZWL</td>\n",
       "      <td>15</td>\n",
       "      <td>Retail</td>\n",
       "      <td>5</td>\n",
       "      <td>KG</td>\n",
       "      <td>3</td>\n",
       "      <td>2021</td>\n",
       "      <td>1390.0000</td>\n",
       "      <td>NaN</td>\n",
       "    </tr>\n",
       "  </tbody>\n",
       "</table>\n",
       "<p>508607 rows × 18 columns</p>\n",
       "</div>"
      ],
      "text/plain": [
       "         adm0_id    adm0_name  adm1_id   adm1_name  mkt_id  mkt_name  cm_id  \\\n",
       "69           1.0  Afghanistan      272  Badakhshan     266  Fayzabad     55   \n",
       "70           1.0  Afghanistan      272  Badakhshan     266  Fayzabad     55   \n",
       "71           1.0  Afghanistan      272  Badakhshan     266  Fayzabad     55   \n",
       "72           1.0  Afghanistan      272  Badakhshan     266  Fayzabad     55   \n",
       "275          1.0  Afghanistan      272  Badakhshan     266  Fayzabad     84   \n",
       "...          ...          ...      ...         ...     ...       ...    ...   \n",
       "1960370    271.0     Zimbabwe     3444    Midlands    5585    Matibi    541   \n",
       "1960371    271.0     Zimbabwe     3444    Midlands    5585    Matibi    541   \n",
       "1960372    271.0     Zimbabwe     3444    Midlands    5585    Matibi    887   \n",
       "1960373    271.0     Zimbabwe     3444    Midlands    5585    Matibi    887   \n",
       "1960374    271.0     Zimbabwe     3444    Midlands    5585    Matibi    887   \n",
       "\n",
       "                         cm_name  cur_id             cur_name  pt_id pt_name  \\\n",
       "69                Bread - Retail     0.0                  AFN     15  Retail   \n",
       "70                Bread - Retail     0.0                  AFN     15  Retail   \n",
       "71                Bread - Retail     0.0                  AFN     15  Retail   \n",
       "72                Bread - Retail     0.0                  AFN     15  Retail   \n",
       "275               Wheat - Retail     0.0                  AFN     15  Retail   \n",
       "...                          ...     ...                  ...    ...     ...   \n",
       "1960370   Handwash soap - Retail     0.0  ZWL                     15  Retail   \n",
       "1960371   Handwash soap - Retail     0.0  ZWL                     15  Retail   \n",
       "1960372  Fish (kapenta) - Retail     0.0  ZWL                     15  Retail   \n",
       "1960373  Fish (kapenta) - Retail     0.0  ZWL                     15  Retail   \n",
       "1960374  Fish (kapenta) - Retail     0.0  ZWL                     15  Retail   \n",
       "\n",
       "         um_id um_name  mp_month  mp_year   mp_price  mp_commoditysource  \n",
       "69           5      KG         1     2020    50.0000                 NaN  \n",
       "70           5      KG         2     2020    50.0000                 NaN  \n",
       "71           5      KG         3     2020    50.0000                 NaN  \n",
       "72           5      KG         4     2020    50.0000                 NaN  \n",
       "275          5      KG         1     2020    25.3750                 NaN  \n",
       "...        ...     ...       ...      ...        ...                 ...  \n",
       "1960370     66   250 G         2     2021    80.3333                 NaN  \n",
       "1960371     66   250 G         3     2021    20.3333                 NaN  \n",
       "1960372      5      KG        12     2020  1187.5000                 NaN  \n",
       "1960373      5      KG         2     2021  1123.3333                 NaN  \n",
       "1960374      5      KG         3     2021  1390.0000                 NaN  \n",
       "\n",
       "[508607 rows x 18 columns]"
      ]
     },
     "execution_count": 19,
     "metadata": {},
     "output_type": "execute_result"
    }
   ],
   "source": [
    "recent_data = df.query('mp_year == 2021.0 or mp_year == 2020.0')\n",
    "recent_data"
   ]
  },
  {
   "cell_type": "code",
   "execution_count": 20,
   "id": "dzDKYtuxI4uo",
   "metadata": {
    "colab": {
     "base_uri": "https://localhost:8080/",
     "height": 0
    },
    "id": "dzDKYtuxI4uo",
    "outputId": "ae8151c3-a386-4573-be3f-6732ed37f865"
   },
   "outputs": [
    {
     "data": {
      "text/html": [
       "<div>\n",
       "<style scoped>\n",
       "    .dataframe tbody tr th:only-of-type {\n",
       "        vertical-align: middle;\n",
       "    }\n",
       "\n",
       "    .dataframe tbody tr th {\n",
       "        vertical-align: top;\n",
       "    }\n",
       "\n",
       "    .dataframe thead th {\n",
       "        text-align: right;\n",
       "    }\n",
       "</style>\n",
       "<table border=\"1\" class=\"dataframe\">\n",
       "  <thead>\n",
       "    <tr style=\"text-align: right;\">\n",
       "      <th></th>\n",
       "      <th>adm0_id</th>\n",
       "      <th>adm0_name</th>\n",
       "      <th>adm1_id</th>\n",
       "      <th>adm1_name</th>\n",
       "      <th>mkt_id</th>\n",
       "      <th>mkt_name</th>\n",
       "      <th>cm_id</th>\n",
       "      <th>cm_name</th>\n",
       "      <th>cur_id</th>\n",
       "      <th>cur_name</th>\n",
       "      <th>pt_id</th>\n",
       "      <th>pt_name</th>\n",
       "      <th>um_id</th>\n",
       "      <th>um_name</th>\n",
       "      <th>mp_month</th>\n",
       "      <th>mp_year</th>\n",
       "      <th>mp_price</th>\n",
       "      <th>mp_commoditysource</th>\n",
       "    </tr>\n",
       "  </thead>\n",
       "  <tbody>\n",
       "    <tr>\n",
       "      <th>275</th>\n",
       "      <td>1.0</td>\n",
       "      <td>Afghanistan</td>\n",
       "      <td>272</td>\n",
       "      <td>Badakhshan</td>\n",
       "      <td>266</td>\n",
       "      <td>Fayzabad</td>\n",
       "      <td>84</td>\n",
       "      <td>Wheat - Retail</td>\n",
       "      <td>0.0</td>\n",
       "      <td>AFN</td>\n",
       "      <td>15</td>\n",
       "      <td>Retail</td>\n",
       "      <td>5</td>\n",
       "      <td>KG</td>\n",
       "      <td>1</td>\n",
       "      <td>2020</td>\n",
       "      <td>25.3750</td>\n",
       "      <td>NaN</td>\n",
       "    </tr>\n",
       "    <tr>\n",
       "      <th>276</th>\n",
       "      <td>1.0</td>\n",
       "      <td>Afghanistan</td>\n",
       "      <td>272</td>\n",
       "      <td>Badakhshan</td>\n",
       "      <td>266</td>\n",
       "      <td>Fayzabad</td>\n",
       "      <td>84</td>\n",
       "      <td>Wheat - Retail</td>\n",
       "      <td>0.0</td>\n",
       "      <td>AFN</td>\n",
       "      <td>15</td>\n",
       "      <td>Retail</td>\n",
       "      <td>5</td>\n",
       "      <td>KG</td>\n",
       "      <td>2</td>\n",
       "      <td>2020</td>\n",
       "      <td>26.7500</td>\n",
       "      <td>NaN</td>\n",
       "    </tr>\n",
       "    <tr>\n",
       "      <th>277</th>\n",
       "      <td>1.0</td>\n",
       "      <td>Afghanistan</td>\n",
       "      <td>272</td>\n",
       "      <td>Badakhshan</td>\n",
       "      <td>266</td>\n",
       "      <td>Fayzabad</td>\n",
       "      <td>84</td>\n",
       "      <td>Wheat - Retail</td>\n",
       "      <td>0.0</td>\n",
       "      <td>AFN</td>\n",
       "      <td>15</td>\n",
       "      <td>Retail</td>\n",
       "      <td>5</td>\n",
       "      <td>KG</td>\n",
       "      <td>3</td>\n",
       "      <td>2020</td>\n",
       "      <td>29.0500</td>\n",
       "      <td>NaN</td>\n",
       "    </tr>\n",
       "    <tr>\n",
       "      <th>278</th>\n",
       "      <td>1.0</td>\n",
       "      <td>Afghanistan</td>\n",
       "      <td>272</td>\n",
       "      <td>Badakhshan</td>\n",
       "      <td>266</td>\n",
       "      <td>Fayzabad</td>\n",
       "      <td>84</td>\n",
       "      <td>Wheat - Retail</td>\n",
       "      <td>0.0</td>\n",
       "      <td>AFN</td>\n",
       "      <td>15</td>\n",
       "      <td>Retail</td>\n",
       "      <td>5</td>\n",
       "      <td>KG</td>\n",
       "      <td>4</td>\n",
       "      <td>2020</td>\n",
       "      <td>31.4000</td>\n",
       "      <td>NaN</td>\n",
       "    </tr>\n",
       "    <tr>\n",
       "      <th>431</th>\n",
       "      <td>1.0</td>\n",
       "      <td>Afghanistan</td>\n",
       "      <td>272</td>\n",
       "      <td>Badakhshan</td>\n",
       "      <td>266</td>\n",
       "      <td>Fayzabad</td>\n",
       "      <td>145</td>\n",
       "      <td>Rice (low quality) - Retail</td>\n",
       "      <td>0.0</td>\n",
       "      <td>AFN</td>\n",
       "      <td>15</td>\n",
       "      <td>Retail</td>\n",
       "      <td>5</td>\n",
       "      <td>KG</td>\n",
       "      <td>1</td>\n",
       "      <td>2020</td>\n",
       "      <td>57.0000</td>\n",
       "      <td>NaN</td>\n",
       "    </tr>\n",
       "    <tr>\n",
       "      <th>...</th>\n",
       "      <td>...</td>\n",
       "      <td>...</td>\n",
       "      <td>...</td>\n",
       "      <td>...</td>\n",
       "      <td>...</td>\n",
       "      <td>...</td>\n",
       "      <td>...</td>\n",
       "      <td>...</td>\n",
       "      <td>...</td>\n",
       "      <td>...</td>\n",
       "      <td>...</td>\n",
       "      <td>...</td>\n",
       "      <td>...</td>\n",
       "      <td>...</td>\n",
       "      <td>...</td>\n",
       "      <td>...</td>\n",
       "      <td>...</td>\n",
       "      <td>...</td>\n",
       "    </tr>\n",
       "    <tr>\n",
       "      <th>1960346</th>\n",
       "      <td>271.0</td>\n",
       "      <td>Zimbabwe</td>\n",
       "      <td>3444</td>\n",
       "      <td>Midlands</td>\n",
       "      <td>5585</td>\n",
       "      <td>Matibi</td>\n",
       "      <td>52</td>\n",
       "      <td>Rice - Retail</td>\n",
       "      <td>0.0</td>\n",
       "      <td>ZWL</td>\n",
       "      <td>15</td>\n",
       "      <td>Retail</td>\n",
       "      <td>5</td>\n",
       "      <td>KG</td>\n",
       "      <td>2</td>\n",
       "      <td>2021</td>\n",
       "      <td>111.3333</td>\n",
       "      <td>NaN</td>\n",
       "    </tr>\n",
       "    <tr>\n",
       "      <th>1960347</th>\n",
       "      <td>271.0</td>\n",
       "      <td>Zimbabwe</td>\n",
       "      <td>3444</td>\n",
       "      <td>Midlands</td>\n",
       "      <td>5585</td>\n",
       "      <td>Matibi</td>\n",
       "      <td>52</td>\n",
       "      <td>Rice - Retail</td>\n",
       "      <td>0.0</td>\n",
       "      <td>ZWL</td>\n",
       "      <td>15</td>\n",
       "      <td>Retail</td>\n",
       "      <td>5</td>\n",
       "      <td>KG</td>\n",
       "      <td>3</td>\n",
       "      <td>2021</td>\n",
       "      <td>104.1666</td>\n",
       "      <td>NaN</td>\n",
       "    </tr>\n",
       "    <tr>\n",
       "      <th>1960348</th>\n",
       "      <td>271.0</td>\n",
       "      <td>Zimbabwe</td>\n",
       "      <td>3444</td>\n",
       "      <td>Midlands</td>\n",
       "      <td>5585</td>\n",
       "      <td>Matibi</td>\n",
       "      <td>54</td>\n",
       "      <td>Maize meal - Retail</td>\n",
       "      <td>0.0</td>\n",
       "      <td>ZWL</td>\n",
       "      <td>15</td>\n",
       "      <td>Retail</td>\n",
       "      <td>5</td>\n",
       "      <td>KG</td>\n",
       "      <td>12</td>\n",
       "      <td>2020</td>\n",
       "      <td>43.0000</td>\n",
       "      <td>NaN</td>\n",
       "    </tr>\n",
       "    <tr>\n",
       "      <th>1960349</th>\n",
       "      <td>271.0</td>\n",
       "      <td>Zimbabwe</td>\n",
       "      <td>3444</td>\n",
       "      <td>Midlands</td>\n",
       "      <td>5585</td>\n",
       "      <td>Matibi</td>\n",
       "      <td>54</td>\n",
       "      <td>Maize meal - Retail</td>\n",
       "      <td>0.0</td>\n",
       "      <td>ZWL</td>\n",
       "      <td>15</td>\n",
       "      <td>Retail</td>\n",
       "      <td>5</td>\n",
       "      <td>KG</td>\n",
       "      <td>2</td>\n",
       "      <td>2021</td>\n",
       "      <td>53.0000</td>\n",
       "      <td>NaN</td>\n",
       "    </tr>\n",
       "    <tr>\n",
       "      <th>1960350</th>\n",
       "      <td>271.0</td>\n",
       "      <td>Zimbabwe</td>\n",
       "      <td>3444</td>\n",
       "      <td>Midlands</td>\n",
       "      <td>5585</td>\n",
       "      <td>Matibi</td>\n",
       "      <td>54</td>\n",
       "      <td>Maize meal - Retail</td>\n",
       "      <td>0.0</td>\n",
       "      <td>ZWL</td>\n",
       "      <td>15</td>\n",
       "      <td>Retail</td>\n",
       "      <td>5</td>\n",
       "      <td>KG</td>\n",
       "      <td>3</td>\n",
       "      <td>2021</td>\n",
       "      <td>59.4000</td>\n",
       "      <td>NaN</td>\n",
       "    </tr>\n",
       "  </tbody>\n",
       "</table>\n",
       "<p>103548 rows × 18 columns</p>\n",
       "</div>"
      ],
      "text/plain": [
       "         adm0_id    adm0_name  adm1_id   adm1_name  mkt_id  mkt_name  cm_id  \\\n",
       "275          1.0  Afghanistan      272  Badakhshan     266  Fayzabad     84   \n",
       "276          1.0  Afghanistan      272  Badakhshan     266  Fayzabad     84   \n",
       "277          1.0  Afghanistan      272  Badakhshan     266  Fayzabad     84   \n",
       "278          1.0  Afghanistan      272  Badakhshan     266  Fayzabad     84   \n",
       "431          1.0  Afghanistan      272  Badakhshan     266  Fayzabad    145   \n",
       "...          ...          ...      ...         ...     ...       ...    ...   \n",
       "1960346    271.0     Zimbabwe     3444    Midlands    5585    Matibi     52   \n",
       "1960347    271.0     Zimbabwe     3444    Midlands    5585    Matibi     52   \n",
       "1960348    271.0     Zimbabwe     3444    Midlands    5585    Matibi     54   \n",
       "1960349    271.0     Zimbabwe     3444    Midlands    5585    Matibi     54   \n",
       "1960350    271.0     Zimbabwe     3444    Midlands    5585    Matibi     54   \n",
       "\n",
       "                             cm_name  cur_id             cur_name  pt_id  \\\n",
       "275                   Wheat - Retail     0.0                  AFN     15   \n",
       "276                   Wheat - Retail     0.0                  AFN     15   \n",
       "277                   Wheat - Retail     0.0                  AFN     15   \n",
       "278                   Wheat - Retail     0.0                  AFN     15   \n",
       "431      Rice (low quality) - Retail     0.0                  AFN     15   \n",
       "...                              ...     ...                  ...    ...   \n",
       "1960346                Rice - Retail     0.0  ZWL                     15   \n",
       "1960347                Rice - Retail     0.0  ZWL                     15   \n",
       "1960348          Maize meal - Retail     0.0  ZWL                     15   \n",
       "1960349          Maize meal - Retail     0.0  ZWL                     15   \n",
       "1960350          Maize meal - Retail     0.0  ZWL                     15   \n",
       "\n",
       "        pt_name  um_id um_name  mp_month  mp_year  mp_price  \\\n",
       "275      Retail      5      KG         1     2020   25.3750   \n",
       "276      Retail      5      KG         2     2020   26.7500   \n",
       "277      Retail      5      KG         3     2020   29.0500   \n",
       "278      Retail      5      KG         4     2020   31.4000   \n",
       "431      Retail      5      KG         1     2020   57.0000   \n",
       "...         ...    ...     ...       ...      ...       ...   \n",
       "1960346  Retail      5      KG         2     2021  111.3333   \n",
       "1960347  Retail      5      KG         3     2021  104.1666   \n",
       "1960348  Retail      5      KG        12     2020   43.0000   \n",
       "1960349  Retail      5      KG         2     2021   53.0000   \n",
       "1960350  Retail      5      KG         3     2021   59.4000   \n",
       "\n",
       "         mp_commoditysource  \n",
       "275                     NaN  \n",
       "276                     NaN  \n",
       "277                     NaN  \n",
       "278                     NaN  \n",
       "431                     NaN  \n",
       "...                     ...  \n",
       "1960346                 NaN  \n",
       "1960347                 NaN  \n",
       "1960348                 NaN  \n",
       "1960349                 NaN  \n",
       "1960350                 NaN  \n",
       "\n",
       "[103548 rows x 18 columns]"
      ]
     },
     "execution_count": 20,
     "metadata": {},
     "output_type": "execute_result"
    }
   ],
   "source": [
    "recent_cereal_data = recent_data[recent_data['cm_name'].isin(cereal_commodity_list)]\n",
    "recent_cereal_data"
   ]
  },
  {
   "cell_type": "markdown",
   "id": "7q45pqdE9rrm",
   "metadata": {
    "id": "7q45pqdE9rrm"
   },
   "source": [
    "## Preliminary commodity inflation analysis: % inflation\n",
    "\n",
    "As [potentially very] noisy proof of concept, calculate the % inflation by averaging the inflation % statistics across all commodities for each country"
   ]
  },
  {
   "cell_type": "code",
   "execution_count": 21,
   "id": "XI8me39eMe8q",
   "metadata": {
    "id": "XI8me39eMe8q"
   },
   "outputs": [],
   "source": [
    "def calculate_inflation_statistic(start_month, start_year, end_month, end_year):\n",
    "  country_avg_inflations = {}\n",
    "\n",
    "  for country in countrylist:\n",
    "    inflations = {}\n",
    "    for commodity in cereal_commodity_list:\n",
    "\n",
    "      # Calculate average price of commodity in start month \n",
    "      start_prices = recent_cereal_data.query('adm0_name == @country & cm_name == @commodity & mp_year == @start_year & mp_month == @start_month')\n",
    "      start_prices[['adm0_name', 'mkt_name', 'cm_name', 'mp_year', 'mp_month', 'mp_price', 'um_name']]\n",
    "\n",
    "      if len(start_prices) == 0:\n",
    "        continue\n",
    "\n",
    "      start_avg_price = start_prices['mp_price'].mean()\n",
    "\n",
    "      # Calculate average price of commodity in end month \n",
    "      end_prices = recent_cereal_data.query('adm0_name == @country & cm_name == @commodity & mp_year == @end_year & mp_month == @end_month')\n",
    "      end_prices[['adm0_name', 'mkt_name', 'cm_name', 'mp_year', 'mp_month', 'mp_price', 'um_name']]\n",
    "\n",
    "      if len(end_prices) == 0:\n",
    "        continue\n",
    "\n",
    "      end_avg_price = end_prices['mp_price'].mean()\n",
    "\n",
    "      # Calculate inflation of commodity\n",
    "      inflation = ((end_avg_price - start_avg_price)/start_avg_price) * 100.0\n",
    "\n",
    "      inflations[commodity] = inflation\n",
    "\n",
    "    inflation_values = list(inflations.values())\n",
    "\n",
    "    if len(inflation_values) > 0:\n",
    "      avg_inflation = mean(inflation_values)\n",
    "      country_avg_inflations[country] = avg_inflation\n",
    "\n",
    "  return country_avg_inflations"
   ]
  },
  {
   "cell_type": "code",
   "execution_count": 22,
   "id": "yjh3FwrrO3LX",
   "metadata": {
    "colab": {
     "base_uri": "https://localhost:8080/"
    },
    "id": "yjh3FwrrO3LX",
    "outputId": "2bd2abdf-2bf5-4894-f9c6-4043492a9ecf"
   },
   "outputs": [
    {
     "name": "stdout",
     "output_type": "stream",
     "text": [
      "{\n",
      "    \"Afghanistan\": 1.321364398169009,\n",
      "    \"Argentina\": 21.5060796848074,\n",
      "    \"Armenia\": 9.326862171246772,\n",
      "    \"Bangladesh\": 3.0917091220555175,\n",
      "    \"Bassas da India\": 3.483529839331285,\n",
      "    \"Benin\": 9.233802465134636,\n",
      "    \"Bhutan\": -7.358268076056214,\n",
      "    \"Burkina Faso\": 4.397255551463458,\n",
      "    \"Cambodia\": 4.1757334379311795,\n",
      "    \"Cameroon\": -13.445671188296469,\n",
      "    \"Central African Republic\": 6.239882404118634,\n",
      "    \"Chad\": 13.902411710368245,\n",
      "    \"Colombia\": 8.159977590893172,\n",
      "    \"Cote d'Ivoire\": -4.549507968169448,\n",
      "    \"Djibouti\": 0.37037037037037035,\n",
      "    \"Dominican Republic\": 7.11972012042254,\n",
      "    \"El Salvador\": -8.390926041019263,\n",
      "    \"Ethiopia\": 12.513454633201002,\n",
      "    \"Gambia\": 5.978026522469786,\n",
      "    \"Ghana\": 18.302642765661403,\n",
      "    \"Guinea\": 0.23563448574295176,\n",
      "    \"Guinea-Bissau\": 2.574121397586312,\n",
      "    \"Honduras\": 4.682372295129421,\n",
      "    \"Iran  (Islamic Republic of)\": -6.666666666666667,\n",
      "    \"Iraq\": 12.771940395139815,\n",
      "    \"Kyrgyzstan\": 0.08669418728854544,\n",
      "    \"Libya\": 1.6992115337551863,\n",
      "    \"Malawi\": -6.007632461237783,\n",
      "    \"Mauritania\": 1.043402286866251,\n",
      "    \"Mexico\": 1.7692663684362642,\n",
      "    \"Myanmar\": 5.802781571220683,\n",
      "    \"Nicaragua\": 1.1155280264848466,\n",
      "    \"Nigeria\": 29.52543599569888,\n",
      "    \"Panama\": -1.2441688709365997,\n",
      "    \"Peru\": 7.979325960267843,\n",
      "    \"Philippines\": 1.2380384680457162,\n",
      "    \"Rwanda\": -10.20004472389233,\n",
      "    \"Senegal\": -1.790173291187622,\n",
      "    \"South Africa\": -7.260324671002751,\n",
      "    \"South Sudan\": 42.95041837295814,\n",
      "    \"Sri Lanka\": 6.173121616339579,\n",
      "    \"State of Palestine\": 1.694664531614093,\n",
      "    \"Sudan\": 42.43015158051483,\n",
      "    \"Tajikistan\": -1.310359106489679,\n",
      "    \"Togo\": 12.947955527970285,\n",
      "    \"United Republic of Tanzania\": 1.0368904347777042,\n",
      "    \"Yemen\": 8.799146285186895\n",
      "}\n"
     ]
    }
   ],
   "source": [
    "country_avg_inflations_6months = calculate_inflation_statistic(10.0, 2020.0, 4.0, 2021.0)\n",
    "print(json.dumps(country_avg_inflations_6months, sort_keys=True, indent=4))"
   ]
  },
  {
   "cell_type": "markdown",
   "id": "n-IAm_BW33Ht",
   "metadata": {
    "id": "n-IAm_BW33Ht"
   },
   "source": [
    "## Display inflation change on map"
   ]
  },
  {
   "cell_type": "code",
   "execution_count": 23,
   "id": "q9A-iRwz-MKy",
   "metadata": {
    "id": "q9A-iRwz-MKy"
   },
   "outputs": [],
   "source": [
    "def country_to_code(row):\n",
    "  country = row['country']\n",
    "\n",
    "  special_country_codes = {\n",
    "    \"Cote d'Ivoire\": \"CIV\",\n",
    "    \"Iran  (Islamic Republic of)\": \"IRN\",\n",
    "    \"State of Palestine\": \"PSE\",\n",
    "    \"United Republic of Tanzania\": \"TZA\"}\n",
    "\n",
    "  if country in special_country_codes:\n",
    "    special_country_code = special_country_codes[country]\n",
    "    return special_country_code\n",
    "  \n",
    "  pycountry_object = pycountry.countries.get(name=country)\n",
    "  if pycountry_object != None:\n",
    "    country_code = pycountry.countries.get(name=country).alpha_3\n",
    "    return country_code\n",
    "  else:\n",
    "    return \"\""
   ]
  },
  {
   "cell_type": "code",
   "execution_count": 24,
   "id": "0GgpQy908vIz",
   "metadata": {
    "id": "0GgpQy908vIz"
   },
   "outputs": [],
   "source": [
    "def create_country_inflations_dataframe(country_inflations_dict):\n",
    "  # create new dataframe from country inflation statistics that only has columns: 'country', 'inflation'\n",
    "  df = pd.DataFrame(list(country_inflations_dict.items()),columns = ['country','inflation'])\n",
    "\n",
    "  # Remove 'Bassas da India' because it has no ISO country code (and is uninhabited)\n",
    "  df_cleaned = df[df.country != \"Bassas da India\"]\n",
    "\n",
    "  # Add country_code column to dataframe\n",
    "  df_cleaned['country_code'] = df_cleaned.apply (lambda row: country_to_code(row), axis=1)\n",
    "\n",
    "  return df_cleaned"
   ]
  },
  {
   "cell_type": "code",
   "execution_count": 27,
   "id": "n_unrMyu9z_W",
   "metadata": {
    "colab": {
     "base_uri": "https://localhost:8080/",
     "height": 678
    },
    "id": "n_unrMyu9z_W",
    "outputId": "1ab2f6e4-dde0-401c-d280-7ff31863f020"
   },
   "outputs": [
    {
     "name": "stderr",
     "output_type": "stream",
     "text": [
      "<ipython-input-24-c5328ec52d04>:9: SettingWithCopyWarning:\n",
      "\n",
      "\n",
      "A value is trying to be set on a copy of a slice from a DataFrame.\n",
      "Try using .loc[row_indexer,col_indexer] = value instead\n",
      "\n",
      "See the caveats in the documentation: https://pandas.pydata.org/pandas-docs/stable/user_guide/indexing.html#returning-a-view-versus-a-copy\n",
      "\n"
     ]
    },
    {
     "data": {
      "application/vnd.plotly.v1+json": {
       "config": {
        "plotlyServerURL": "https://plot.ly"
       },
       "data": [
        {
         "coloraxis": "coloraxis",
         "geo": "geo",
         "hovertemplate": "<b>%{hovertext}</b><br><br>country_code=%{location}<br>inflation=%{z}<extra></extra>",
         "hovertext": [
          "Afghanistan",
          "Argentina",
          "Armenia",
          "Bangladesh",
          "Benin",
          "Bhutan",
          "Burkina Faso",
          "Cambodia",
          "Cameroon",
          "Central African Republic",
          "Chad",
          "Colombia",
          "Cote d'Ivoire",
          "Djibouti",
          "Dominican Republic",
          "El Salvador",
          "Ethiopia",
          "Gambia",
          "Ghana",
          "Guinea",
          "Guinea-Bissau",
          "Honduras",
          "Iran  (Islamic Republic of)",
          "Iraq",
          "Kyrgyzstan",
          "Libya",
          "Malawi",
          "Mauritania",
          "Mexico",
          "Myanmar",
          "Nicaragua",
          "Nigeria",
          "Panama",
          "Peru",
          "Philippines",
          "Rwanda",
          "Senegal",
          "South Africa",
          "South Sudan",
          "Sri Lanka",
          "State of Palestine",
          "Sudan",
          "Tajikistan",
          "Togo",
          "United Republic of Tanzania",
          "Yemen"
         ],
         "locations": [
          "AFG",
          "ARG",
          "ARM",
          "BGD",
          "BEN",
          "BTN",
          "BFA",
          "KHM",
          "CMR",
          "CAF",
          "TCD",
          "COL",
          "CIV",
          "DJI",
          "DOM",
          "SLV",
          "ETH",
          "GMB",
          "GHA",
          "GIN",
          "GNB",
          "HND",
          "IRN",
          "IRQ",
          "KGZ",
          "LBY",
          "MWI",
          "MRT",
          "MEX",
          "MMR",
          "NIC",
          "NGA",
          "PAN",
          "PER",
          "PHL",
          "RWA",
          "SEN",
          "ZAF",
          "SSD",
          "LKA",
          "PSE",
          "SDN",
          "TJK",
          "TGO",
          "TZA",
          "YEM"
         ],
         "name": "",
         "type": "choropleth",
         "z": [
          1.321364398169009,
          21.5060796848074,
          9.326862171246772,
          3.0917091220555175,
          9.233802465134636,
          -7.358268076056214,
          4.397255551463458,
          4.1757334379311795,
          -13.445671188296469,
          6.239882404118634,
          13.902411710368245,
          8.159977590893172,
          -4.549507968169448,
          0.37037037037037035,
          7.11972012042254,
          -8.390926041019263,
          12.513454633201002,
          5.978026522469786,
          18.302642765661403,
          0.23563448574295176,
          2.574121397586312,
          4.682372295129421,
          -6.666666666666667,
          12.771940395139815,
          0.08669418728854544,
          1.6992115337551863,
          -6.007632461237783,
          1.043402286866251,
          1.7692663684362642,
          5.802781571220683,
          1.1155280264848466,
          29.52543599569888,
          -1.2441688709365997,
          7.979325960267843,
          1.2380384680457162,
          -10.20004472389233,
          -1.790173291187622,
          -7.260324671002751,
          42.95041837295814,
          6.173121616339579,
          1.694664531614093,
          42.43015158051483,
          -1.310359106489679,
          12.947955527970285,
          1.0368904347777042,
          8.799146285186895
         ]
        }
       ],
       "layout": {
        "coloraxis": {
         "colorbar": {
          "title": {
           "text": "inflation"
          }
         },
         "colorscale": [
          [
           0,
           "#0d0887"
          ],
          [
           0.1111111111111111,
           "#46039f"
          ],
          [
           0.2222222222222222,
           "#7201a8"
          ],
          [
           0.3333333333333333,
           "#9c179e"
          ],
          [
           0.4444444444444444,
           "#bd3786"
          ],
          [
           0.5555555555555556,
           "#d8576b"
          ],
          [
           0.6666666666666666,
           "#ed7953"
          ],
          [
           0.7777777777777778,
           "#fb9f3a"
          ],
          [
           0.8888888888888888,
           "#fdca26"
          ],
          [
           1,
           "#f0f921"
          ]
         ]
        },
        "geo": {
         "center": {},
         "domain": {
          "x": [
           0,
           1
          ],
          "y": [
           0,
           1
          ]
         }
        },
        "legend": {
         "tracegroupgap": 0
        },
        "margin": {
         "t": 60
        },
        "template": {
         "data": {
          "bar": [
           {
            "error_x": {
             "color": "#2a3f5f"
            },
            "error_y": {
             "color": "#2a3f5f"
            },
            "marker": {
             "line": {
              "color": "#E5ECF6",
              "width": 0.5
             }
            },
            "type": "bar"
           }
          ],
          "barpolar": [
           {
            "marker": {
             "line": {
              "color": "#E5ECF6",
              "width": 0.5
             }
            },
            "type": "barpolar"
           }
          ],
          "carpet": [
           {
            "aaxis": {
             "endlinecolor": "#2a3f5f",
             "gridcolor": "white",
             "linecolor": "white",
             "minorgridcolor": "white",
             "startlinecolor": "#2a3f5f"
            },
            "baxis": {
             "endlinecolor": "#2a3f5f",
             "gridcolor": "white",
             "linecolor": "white",
             "minorgridcolor": "white",
             "startlinecolor": "#2a3f5f"
            },
            "type": "carpet"
           }
          ],
          "choropleth": [
           {
            "colorbar": {
             "outlinewidth": 0,
             "ticks": ""
            },
            "type": "choropleth"
           }
          ],
          "contour": [
           {
            "colorbar": {
             "outlinewidth": 0,
             "ticks": ""
            },
            "colorscale": [
             [
              0,
              "#0d0887"
             ],
             [
              0.1111111111111111,
              "#46039f"
             ],
             [
              0.2222222222222222,
              "#7201a8"
             ],
             [
              0.3333333333333333,
              "#9c179e"
             ],
             [
              0.4444444444444444,
              "#bd3786"
             ],
             [
              0.5555555555555556,
              "#d8576b"
             ],
             [
              0.6666666666666666,
              "#ed7953"
             ],
             [
              0.7777777777777778,
              "#fb9f3a"
             ],
             [
              0.8888888888888888,
              "#fdca26"
             ],
             [
              1,
              "#f0f921"
             ]
            ],
            "type": "contour"
           }
          ],
          "contourcarpet": [
           {
            "colorbar": {
             "outlinewidth": 0,
             "ticks": ""
            },
            "type": "contourcarpet"
           }
          ],
          "heatmap": [
           {
            "colorbar": {
             "outlinewidth": 0,
             "ticks": ""
            },
            "colorscale": [
             [
              0,
              "#0d0887"
             ],
             [
              0.1111111111111111,
              "#46039f"
             ],
             [
              0.2222222222222222,
              "#7201a8"
             ],
             [
              0.3333333333333333,
              "#9c179e"
             ],
             [
              0.4444444444444444,
              "#bd3786"
             ],
             [
              0.5555555555555556,
              "#d8576b"
             ],
             [
              0.6666666666666666,
              "#ed7953"
             ],
             [
              0.7777777777777778,
              "#fb9f3a"
             ],
             [
              0.8888888888888888,
              "#fdca26"
             ],
             [
              1,
              "#f0f921"
             ]
            ],
            "type": "heatmap"
           }
          ],
          "heatmapgl": [
           {
            "colorbar": {
             "outlinewidth": 0,
             "ticks": ""
            },
            "colorscale": [
             [
              0,
              "#0d0887"
             ],
             [
              0.1111111111111111,
              "#46039f"
             ],
             [
              0.2222222222222222,
              "#7201a8"
             ],
             [
              0.3333333333333333,
              "#9c179e"
             ],
             [
              0.4444444444444444,
              "#bd3786"
             ],
             [
              0.5555555555555556,
              "#d8576b"
             ],
             [
              0.6666666666666666,
              "#ed7953"
             ],
             [
              0.7777777777777778,
              "#fb9f3a"
             ],
             [
              0.8888888888888888,
              "#fdca26"
             ],
             [
              1,
              "#f0f921"
             ]
            ],
            "type": "heatmapgl"
           }
          ],
          "histogram": [
           {
            "marker": {
             "colorbar": {
              "outlinewidth": 0,
              "ticks": ""
             }
            },
            "type": "histogram"
           }
          ],
          "histogram2d": [
           {
            "colorbar": {
             "outlinewidth": 0,
             "ticks": ""
            },
            "colorscale": [
             [
              0,
              "#0d0887"
             ],
             [
              0.1111111111111111,
              "#46039f"
             ],
             [
              0.2222222222222222,
              "#7201a8"
             ],
             [
              0.3333333333333333,
              "#9c179e"
             ],
             [
              0.4444444444444444,
              "#bd3786"
             ],
             [
              0.5555555555555556,
              "#d8576b"
             ],
             [
              0.6666666666666666,
              "#ed7953"
             ],
             [
              0.7777777777777778,
              "#fb9f3a"
             ],
             [
              0.8888888888888888,
              "#fdca26"
             ],
             [
              1,
              "#f0f921"
             ]
            ],
            "type": "histogram2d"
           }
          ],
          "histogram2dcontour": [
           {
            "colorbar": {
             "outlinewidth": 0,
             "ticks": ""
            },
            "colorscale": [
             [
              0,
              "#0d0887"
             ],
             [
              0.1111111111111111,
              "#46039f"
             ],
             [
              0.2222222222222222,
              "#7201a8"
             ],
             [
              0.3333333333333333,
              "#9c179e"
             ],
             [
              0.4444444444444444,
              "#bd3786"
             ],
             [
              0.5555555555555556,
              "#d8576b"
             ],
             [
              0.6666666666666666,
              "#ed7953"
             ],
             [
              0.7777777777777778,
              "#fb9f3a"
             ],
             [
              0.8888888888888888,
              "#fdca26"
             ],
             [
              1,
              "#f0f921"
             ]
            ],
            "type": "histogram2dcontour"
           }
          ],
          "mesh3d": [
           {
            "colorbar": {
             "outlinewidth": 0,
             "ticks": ""
            },
            "type": "mesh3d"
           }
          ],
          "parcoords": [
           {
            "line": {
             "colorbar": {
              "outlinewidth": 0,
              "ticks": ""
             }
            },
            "type": "parcoords"
           }
          ],
          "pie": [
           {
            "automargin": true,
            "type": "pie"
           }
          ],
          "scatter": [
           {
            "marker": {
             "colorbar": {
              "outlinewidth": 0,
              "ticks": ""
             }
            },
            "type": "scatter"
           }
          ],
          "scatter3d": [
           {
            "line": {
             "colorbar": {
              "outlinewidth": 0,
              "ticks": ""
             }
            },
            "marker": {
             "colorbar": {
              "outlinewidth": 0,
              "ticks": ""
             }
            },
            "type": "scatter3d"
           }
          ],
          "scattercarpet": [
           {
            "marker": {
             "colorbar": {
              "outlinewidth": 0,
              "ticks": ""
             }
            },
            "type": "scattercarpet"
           }
          ],
          "scattergeo": [
           {
            "marker": {
             "colorbar": {
              "outlinewidth": 0,
              "ticks": ""
             }
            },
            "type": "scattergeo"
           }
          ],
          "scattergl": [
           {
            "marker": {
             "colorbar": {
              "outlinewidth": 0,
              "ticks": ""
             }
            },
            "type": "scattergl"
           }
          ],
          "scattermapbox": [
           {
            "marker": {
             "colorbar": {
              "outlinewidth": 0,
              "ticks": ""
             }
            },
            "type": "scattermapbox"
           }
          ],
          "scatterpolar": [
           {
            "marker": {
             "colorbar": {
              "outlinewidth": 0,
              "ticks": ""
             }
            },
            "type": "scatterpolar"
           }
          ],
          "scatterpolargl": [
           {
            "marker": {
             "colorbar": {
              "outlinewidth": 0,
              "ticks": ""
             }
            },
            "type": "scatterpolargl"
           }
          ],
          "scatterternary": [
           {
            "marker": {
             "colorbar": {
              "outlinewidth": 0,
              "ticks": ""
             }
            },
            "type": "scatterternary"
           }
          ],
          "surface": [
           {
            "colorbar": {
             "outlinewidth": 0,
             "ticks": ""
            },
            "colorscale": [
             [
              0,
              "#0d0887"
             ],
             [
              0.1111111111111111,
              "#46039f"
             ],
             [
              0.2222222222222222,
              "#7201a8"
             ],
             [
              0.3333333333333333,
              "#9c179e"
             ],
             [
              0.4444444444444444,
              "#bd3786"
             ],
             [
              0.5555555555555556,
              "#d8576b"
             ],
             [
              0.6666666666666666,
              "#ed7953"
             ],
             [
              0.7777777777777778,
              "#fb9f3a"
             ],
             [
              0.8888888888888888,
              "#fdca26"
             ],
             [
              1,
              "#f0f921"
             ]
            ],
            "type": "surface"
           }
          ],
          "table": [
           {
            "cells": {
             "fill": {
              "color": "#EBF0F8"
             },
             "line": {
              "color": "white"
             }
            },
            "header": {
             "fill": {
              "color": "#C8D4E3"
             },
             "line": {
              "color": "white"
             }
            },
            "type": "table"
           }
          ]
         },
         "layout": {
          "annotationdefaults": {
           "arrowcolor": "#2a3f5f",
           "arrowhead": 0,
           "arrowwidth": 1
          },
          "autotypenumbers": "strict",
          "coloraxis": {
           "colorbar": {
            "outlinewidth": 0,
            "ticks": ""
           }
          },
          "colorscale": {
           "diverging": [
            [
             0,
             "#8e0152"
            ],
            [
             0.1,
             "#c51b7d"
            ],
            [
             0.2,
             "#de77ae"
            ],
            [
             0.3,
             "#f1b6da"
            ],
            [
             0.4,
             "#fde0ef"
            ],
            [
             0.5,
             "#f7f7f7"
            ],
            [
             0.6,
             "#e6f5d0"
            ],
            [
             0.7,
             "#b8e186"
            ],
            [
             0.8,
             "#7fbc41"
            ],
            [
             0.9,
             "#4d9221"
            ],
            [
             1,
             "#276419"
            ]
           ],
           "sequential": [
            [
             0,
             "#0d0887"
            ],
            [
             0.1111111111111111,
             "#46039f"
            ],
            [
             0.2222222222222222,
             "#7201a8"
            ],
            [
             0.3333333333333333,
             "#9c179e"
            ],
            [
             0.4444444444444444,
             "#bd3786"
            ],
            [
             0.5555555555555556,
             "#d8576b"
            ],
            [
             0.6666666666666666,
             "#ed7953"
            ],
            [
             0.7777777777777778,
             "#fb9f3a"
            ],
            [
             0.8888888888888888,
             "#fdca26"
            ],
            [
             1,
             "#f0f921"
            ]
           ],
           "sequentialminus": [
            [
             0,
             "#0d0887"
            ],
            [
             0.1111111111111111,
             "#46039f"
            ],
            [
             0.2222222222222222,
             "#7201a8"
            ],
            [
             0.3333333333333333,
             "#9c179e"
            ],
            [
             0.4444444444444444,
             "#bd3786"
            ],
            [
             0.5555555555555556,
             "#d8576b"
            ],
            [
             0.6666666666666666,
             "#ed7953"
            ],
            [
             0.7777777777777778,
             "#fb9f3a"
            ],
            [
             0.8888888888888888,
             "#fdca26"
            ],
            [
             1,
             "#f0f921"
            ]
           ]
          },
          "colorway": [
           "#636efa",
           "#EF553B",
           "#00cc96",
           "#ab63fa",
           "#FFA15A",
           "#19d3f3",
           "#FF6692",
           "#B6E880",
           "#FF97FF",
           "#FECB52"
          ],
          "font": {
           "color": "#2a3f5f"
          },
          "geo": {
           "bgcolor": "white",
           "lakecolor": "white",
           "landcolor": "#E5ECF6",
           "showlakes": true,
           "showland": true,
           "subunitcolor": "white"
          },
          "hoverlabel": {
           "align": "left"
          },
          "hovermode": "closest",
          "mapbox": {
           "style": "light"
          },
          "paper_bgcolor": "white",
          "plot_bgcolor": "#E5ECF6",
          "polar": {
           "angularaxis": {
            "gridcolor": "white",
            "linecolor": "white",
            "ticks": ""
           },
           "bgcolor": "#E5ECF6",
           "radialaxis": {
            "gridcolor": "white",
            "linecolor": "white",
            "ticks": ""
           }
          },
          "scene": {
           "xaxis": {
            "backgroundcolor": "#E5ECF6",
            "gridcolor": "white",
            "gridwidth": 2,
            "linecolor": "white",
            "showbackground": true,
            "ticks": "",
            "zerolinecolor": "white"
           },
           "yaxis": {
            "backgroundcolor": "#E5ECF6",
            "gridcolor": "white",
            "gridwidth": 2,
            "linecolor": "white",
            "showbackground": true,
            "ticks": "",
            "zerolinecolor": "white"
           },
           "zaxis": {
            "backgroundcolor": "#E5ECF6",
            "gridcolor": "white",
            "gridwidth": 2,
            "linecolor": "white",
            "showbackground": true,
            "ticks": "",
            "zerolinecolor": "white"
           }
          },
          "shapedefaults": {
           "line": {
            "color": "#2a3f5f"
           }
          },
          "ternary": {
           "aaxis": {
            "gridcolor": "white",
            "linecolor": "white",
            "ticks": ""
           },
           "baxis": {
            "gridcolor": "white",
            "linecolor": "white",
            "ticks": ""
           },
           "bgcolor": "#E5ECF6",
           "caxis": {
            "gridcolor": "white",
            "linecolor": "white",
            "ticks": ""
           }
          },
          "title": {
           "x": 0.05
          },
          "xaxis": {
           "automargin": true,
           "gridcolor": "white",
           "linecolor": "white",
           "ticks": "",
           "title": {
            "standoff": 15
           },
           "zerolinecolor": "white",
           "zerolinewidth": 2
          },
          "yaxis": {
           "automargin": true,
           "gridcolor": "white",
           "linecolor": "white",
           "ticks": "",
           "title": {
            "standoff": 15
           },
           "zerolinecolor": "white",
           "zerolinewidth": 2
          }
         }
        }
       }
      },
      "text/html": [
       "<div>                            <div id=\"807ed3ee-0f71-498c-bb64-95540f96eb87\" class=\"plotly-graph-div\" style=\"height:525px; width:100%;\"></div>            <script type=\"text/javascript\">                require([\"plotly\"], function(Plotly) {                    window.PLOTLYENV=window.PLOTLYENV || {};                                    if (document.getElementById(\"807ed3ee-0f71-498c-bb64-95540f96eb87\")) {                    Plotly.newPlot(                        \"807ed3ee-0f71-498c-bb64-95540f96eb87\",                        [{\"coloraxis\": \"coloraxis\", \"geo\": \"geo\", \"hovertemplate\": \"<b>%{hovertext}</b><br><br>country_code=%{location}<br>inflation=%{z}<extra></extra>\", \"hovertext\": [\"Afghanistan\", \"Argentina\", \"Armenia\", \"Bangladesh\", \"Benin\", \"Bhutan\", \"Burkina Faso\", \"Cambodia\", \"Cameroon\", \"Central African Republic\", \"Chad\", \"Colombia\", \"Cote d'Ivoire\", \"Djibouti\", \"Dominican Republic\", \"El Salvador\", \"Ethiopia\", \"Gambia\", \"Ghana\", \"Guinea\", \"Guinea-Bissau\", \"Honduras\", \"Iran  (Islamic Republic of)\", \"Iraq\", \"Kyrgyzstan\", \"Libya\", \"Malawi\", \"Mauritania\", \"Mexico\", \"Myanmar\", \"Nicaragua\", \"Nigeria\", \"Panama\", \"Peru\", \"Philippines\", \"Rwanda\", \"Senegal\", \"South Africa\", \"South Sudan\", \"Sri Lanka\", \"State of Palestine\", \"Sudan\", \"Tajikistan\", \"Togo\", \"United Republic of Tanzania\", \"Yemen\"], \"locations\": [\"AFG\", \"ARG\", \"ARM\", \"BGD\", \"BEN\", \"BTN\", \"BFA\", \"KHM\", \"CMR\", \"CAF\", \"TCD\", \"COL\", \"CIV\", \"DJI\", \"DOM\", \"SLV\", \"ETH\", \"GMB\", \"GHA\", \"GIN\", \"GNB\", \"HND\", \"IRN\", \"IRQ\", \"KGZ\", \"LBY\", \"MWI\", \"MRT\", \"MEX\", \"MMR\", \"NIC\", \"NGA\", \"PAN\", \"PER\", \"PHL\", \"RWA\", \"SEN\", \"ZAF\", \"SSD\", \"LKA\", \"PSE\", \"SDN\", \"TJK\", \"TGO\", \"TZA\", \"YEM\"], \"name\": \"\", \"type\": \"choropleth\", \"z\": [1.321364398169009, 21.5060796848074, 9.326862171246772, 3.0917091220555175, 9.233802465134636, -7.358268076056214, 4.397255551463458, 4.1757334379311795, -13.445671188296469, 6.239882404118634, 13.902411710368245, 8.159977590893172, -4.549507968169448, 0.37037037037037035, 7.11972012042254, -8.390926041019263, 12.513454633201002, 5.978026522469786, 18.302642765661403, 0.23563448574295176, 2.574121397586312, 4.682372295129421, -6.666666666666667, 12.771940395139815, 0.08669418728854544, 1.6992115337551863, -6.007632461237783, 1.043402286866251, 1.7692663684362642, 5.802781571220683, 1.1155280264848466, 29.52543599569888, -1.2441688709365997, 7.979325960267843, 1.2380384680457162, -10.20004472389233, -1.790173291187622, -7.260324671002751, 42.95041837295814, 6.173121616339579, 1.694664531614093, 42.43015158051483, -1.310359106489679, 12.947955527970285, 1.0368904347777042, 8.799146285186895]}],                        {\"coloraxis\": {\"colorbar\": {\"title\": {\"text\": \"inflation\"}}, \"colorscale\": [[0.0, \"#0d0887\"], [0.1111111111111111, \"#46039f\"], [0.2222222222222222, \"#7201a8\"], [0.3333333333333333, \"#9c179e\"], [0.4444444444444444, \"#bd3786\"], [0.5555555555555556, \"#d8576b\"], [0.6666666666666666, \"#ed7953\"], [0.7777777777777778, \"#fb9f3a\"], [0.8888888888888888, \"#fdca26\"], [1.0, \"#f0f921\"]]}, \"geo\": {\"center\": {}, \"domain\": {\"x\": [0.0, 1.0], \"y\": [0.0, 1.0]}}, \"legend\": {\"tracegroupgap\": 0}, \"margin\": {\"t\": 60}, \"template\": {\"data\": {\"bar\": [{\"error_x\": {\"color\": \"#2a3f5f\"}, \"error_y\": {\"color\": \"#2a3f5f\"}, \"marker\": {\"line\": {\"color\": \"#E5ECF6\", \"width\": 0.5}}, \"type\": \"bar\"}], \"barpolar\": [{\"marker\": {\"line\": {\"color\": \"#E5ECF6\", \"width\": 0.5}}, \"type\": \"barpolar\"}], \"carpet\": [{\"aaxis\": {\"endlinecolor\": \"#2a3f5f\", \"gridcolor\": \"white\", \"linecolor\": \"white\", \"minorgridcolor\": \"white\", \"startlinecolor\": \"#2a3f5f\"}, \"baxis\": {\"endlinecolor\": \"#2a3f5f\", \"gridcolor\": \"white\", \"linecolor\": \"white\", \"minorgridcolor\": \"white\", \"startlinecolor\": \"#2a3f5f\"}, \"type\": \"carpet\"}], \"choropleth\": [{\"colorbar\": {\"outlinewidth\": 0, \"ticks\": \"\"}, \"type\": \"choropleth\"}], \"contour\": [{\"colorbar\": {\"outlinewidth\": 0, \"ticks\": \"\"}, \"colorscale\": [[0.0, \"#0d0887\"], [0.1111111111111111, \"#46039f\"], [0.2222222222222222, \"#7201a8\"], [0.3333333333333333, \"#9c179e\"], [0.4444444444444444, \"#bd3786\"], [0.5555555555555556, \"#d8576b\"], [0.6666666666666666, \"#ed7953\"], [0.7777777777777778, \"#fb9f3a\"], [0.8888888888888888, \"#fdca26\"], [1.0, \"#f0f921\"]], \"type\": \"contour\"}], \"contourcarpet\": [{\"colorbar\": {\"outlinewidth\": 0, \"ticks\": \"\"}, \"type\": \"contourcarpet\"}], \"heatmap\": [{\"colorbar\": {\"outlinewidth\": 0, \"ticks\": \"\"}, \"colorscale\": [[0.0, \"#0d0887\"], [0.1111111111111111, \"#46039f\"], [0.2222222222222222, \"#7201a8\"], [0.3333333333333333, \"#9c179e\"], [0.4444444444444444, \"#bd3786\"], [0.5555555555555556, \"#d8576b\"], [0.6666666666666666, \"#ed7953\"], [0.7777777777777778, \"#fb9f3a\"], [0.8888888888888888, \"#fdca26\"], [1.0, \"#f0f921\"]], \"type\": \"heatmap\"}], \"heatmapgl\": [{\"colorbar\": {\"outlinewidth\": 0, \"ticks\": \"\"}, \"colorscale\": [[0.0, \"#0d0887\"], [0.1111111111111111, \"#46039f\"], [0.2222222222222222, \"#7201a8\"], [0.3333333333333333, \"#9c179e\"], [0.4444444444444444, \"#bd3786\"], [0.5555555555555556, \"#d8576b\"], [0.6666666666666666, \"#ed7953\"], [0.7777777777777778, \"#fb9f3a\"], [0.8888888888888888, \"#fdca26\"], [1.0, \"#f0f921\"]], \"type\": \"heatmapgl\"}], \"histogram\": [{\"marker\": {\"colorbar\": {\"outlinewidth\": 0, \"ticks\": \"\"}}, \"type\": \"histogram\"}], \"histogram2d\": [{\"colorbar\": {\"outlinewidth\": 0, \"ticks\": \"\"}, \"colorscale\": [[0.0, \"#0d0887\"], [0.1111111111111111, \"#46039f\"], [0.2222222222222222, \"#7201a8\"], [0.3333333333333333, \"#9c179e\"], [0.4444444444444444, \"#bd3786\"], [0.5555555555555556, \"#d8576b\"], [0.6666666666666666, \"#ed7953\"], [0.7777777777777778, \"#fb9f3a\"], [0.8888888888888888, \"#fdca26\"], [1.0, \"#f0f921\"]], \"type\": \"histogram2d\"}], \"histogram2dcontour\": [{\"colorbar\": {\"outlinewidth\": 0, \"ticks\": \"\"}, \"colorscale\": [[0.0, \"#0d0887\"], [0.1111111111111111, \"#46039f\"], [0.2222222222222222, \"#7201a8\"], [0.3333333333333333, \"#9c179e\"], [0.4444444444444444, \"#bd3786\"], [0.5555555555555556, \"#d8576b\"], [0.6666666666666666, \"#ed7953\"], [0.7777777777777778, \"#fb9f3a\"], [0.8888888888888888, \"#fdca26\"], [1.0, \"#f0f921\"]], \"type\": \"histogram2dcontour\"}], \"mesh3d\": [{\"colorbar\": {\"outlinewidth\": 0, \"ticks\": \"\"}, \"type\": \"mesh3d\"}], \"parcoords\": [{\"line\": {\"colorbar\": {\"outlinewidth\": 0, \"ticks\": \"\"}}, \"type\": \"parcoords\"}], \"pie\": [{\"automargin\": true, \"type\": \"pie\"}], \"scatter\": [{\"marker\": {\"colorbar\": {\"outlinewidth\": 0, \"ticks\": \"\"}}, \"type\": \"scatter\"}], \"scatter3d\": [{\"line\": {\"colorbar\": {\"outlinewidth\": 0, \"ticks\": \"\"}}, \"marker\": {\"colorbar\": {\"outlinewidth\": 0, \"ticks\": \"\"}}, \"type\": \"scatter3d\"}], \"scattercarpet\": [{\"marker\": {\"colorbar\": {\"outlinewidth\": 0, \"ticks\": \"\"}}, \"type\": \"scattercarpet\"}], \"scattergeo\": [{\"marker\": {\"colorbar\": {\"outlinewidth\": 0, \"ticks\": \"\"}}, \"type\": \"scattergeo\"}], \"scattergl\": [{\"marker\": {\"colorbar\": {\"outlinewidth\": 0, \"ticks\": \"\"}}, \"type\": \"scattergl\"}], \"scattermapbox\": [{\"marker\": {\"colorbar\": {\"outlinewidth\": 0, \"ticks\": \"\"}}, \"type\": \"scattermapbox\"}], \"scatterpolar\": [{\"marker\": {\"colorbar\": {\"outlinewidth\": 0, \"ticks\": \"\"}}, \"type\": \"scatterpolar\"}], \"scatterpolargl\": [{\"marker\": {\"colorbar\": {\"outlinewidth\": 0, \"ticks\": \"\"}}, \"type\": \"scatterpolargl\"}], \"scatterternary\": [{\"marker\": {\"colorbar\": {\"outlinewidth\": 0, \"ticks\": \"\"}}, \"type\": \"scatterternary\"}], \"surface\": [{\"colorbar\": {\"outlinewidth\": 0, \"ticks\": \"\"}, \"colorscale\": [[0.0, \"#0d0887\"], [0.1111111111111111, \"#46039f\"], [0.2222222222222222, \"#7201a8\"], [0.3333333333333333, \"#9c179e\"], [0.4444444444444444, \"#bd3786\"], [0.5555555555555556, \"#d8576b\"], [0.6666666666666666, \"#ed7953\"], [0.7777777777777778, \"#fb9f3a\"], [0.8888888888888888, \"#fdca26\"], [1.0, \"#f0f921\"]], \"type\": \"surface\"}], \"table\": [{\"cells\": {\"fill\": {\"color\": \"#EBF0F8\"}, \"line\": {\"color\": \"white\"}}, \"header\": {\"fill\": {\"color\": \"#C8D4E3\"}, \"line\": {\"color\": \"white\"}}, \"type\": \"table\"}]}, \"layout\": {\"annotationdefaults\": {\"arrowcolor\": \"#2a3f5f\", \"arrowhead\": 0, \"arrowwidth\": 1}, \"autotypenumbers\": \"strict\", \"coloraxis\": {\"colorbar\": {\"outlinewidth\": 0, \"ticks\": \"\"}}, \"colorscale\": {\"diverging\": [[0, \"#8e0152\"], [0.1, \"#c51b7d\"], [0.2, \"#de77ae\"], [0.3, \"#f1b6da\"], [0.4, \"#fde0ef\"], [0.5, \"#f7f7f7\"], [0.6, \"#e6f5d0\"], [0.7, \"#b8e186\"], [0.8, \"#7fbc41\"], [0.9, \"#4d9221\"], [1, \"#276419\"]], \"sequential\": [[0.0, \"#0d0887\"], [0.1111111111111111, \"#46039f\"], [0.2222222222222222, \"#7201a8\"], [0.3333333333333333, \"#9c179e\"], [0.4444444444444444, \"#bd3786\"], [0.5555555555555556, \"#d8576b\"], [0.6666666666666666, \"#ed7953\"], [0.7777777777777778, \"#fb9f3a\"], [0.8888888888888888, \"#fdca26\"], [1.0, \"#f0f921\"]], \"sequentialminus\": [[0.0, \"#0d0887\"], [0.1111111111111111, \"#46039f\"], [0.2222222222222222, \"#7201a8\"], [0.3333333333333333, \"#9c179e\"], [0.4444444444444444, \"#bd3786\"], [0.5555555555555556, \"#d8576b\"], [0.6666666666666666, \"#ed7953\"], [0.7777777777777778, \"#fb9f3a\"], [0.8888888888888888, \"#fdca26\"], [1.0, \"#f0f921\"]]}, \"colorway\": [\"#636efa\", \"#EF553B\", \"#00cc96\", \"#ab63fa\", \"#FFA15A\", \"#19d3f3\", \"#FF6692\", \"#B6E880\", \"#FF97FF\", \"#FECB52\"], \"font\": {\"color\": \"#2a3f5f\"}, \"geo\": {\"bgcolor\": \"white\", \"lakecolor\": \"white\", \"landcolor\": \"#E5ECF6\", \"showlakes\": true, \"showland\": true, \"subunitcolor\": \"white\"}, \"hoverlabel\": {\"align\": \"left\"}, \"hovermode\": \"closest\", \"mapbox\": {\"style\": \"light\"}, \"paper_bgcolor\": \"white\", \"plot_bgcolor\": \"#E5ECF6\", \"polar\": {\"angularaxis\": {\"gridcolor\": \"white\", \"linecolor\": \"white\", \"ticks\": \"\"}, \"bgcolor\": \"#E5ECF6\", \"radialaxis\": {\"gridcolor\": \"white\", \"linecolor\": \"white\", \"ticks\": \"\"}}, \"scene\": {\"xaxis\": {\"backgroundcolor\": \"#E5ECF6\", \"gridcolor\": \"white\", \"gridwidth\": 2, \"linecolor\": \"white\", \"showbackground\": true, \"ticks\": \"\", \"zerolinecolor\": \"white\"}, \"yaxis\": {\"backgroundcolor\": \"#E5ECF6\", \"gridcolor\": \"white\", \"gridwidth\": 2, \"linecolor\": \"white\", \"showbackground\": true, \"ticks\": \"\", \"zerolinecolor\": \"white\"}, \"zaxis\": {\"backgroundcolor\": \"#E5ECF6\", \"gridcolor\": \"white\", \"gridwidth\": 2, \"linecolor\": \"white\", \"showbackground\": true, \"ticks\": \"\", \"zerolinecolor\": \"white\"}}, \"shapedefaults\": {\"line\": {\"color\": \"#2a3f5f\"}}, \"ternary\": {\"aaxis\": {\"gridcolor\": \"white\", \"linecolor\": \"white\", \"ticks\": \"\"}, \"baxis\": {\"gridcolor\": \"white\", \"linecolor\": \"white\", \"ticks\": \"\"}, \"bgcolor\": \"#E5ECF6\", \"caxis\": {\"gridcolor\": \"white\", \"linecolor\": \"white\", \"ticks\": \"\"}}, \"title\": {\"x\": 0.05}, \"xaxis\": {\"automargin\": true, \"gridcolor\": \"white\", \"linecolor\": \"white\", \"ticks\": \"\", \"title\": {\"standoff\": 15}, \"zerolinecolor\": \"white\", \"zerolinewidth\": 2}, \"yaxis\": {\"automargin\": true, \"gridcolor\": \"white\", \"linecolor\": \"white\", \"ticks\": \"\", \"title\": {\"standoff\": 15}, \"zerolinecolor\": \"white\", \"zerolinewidth\": 2}}}},                        {\"responsive\": true}                    ).then(function(){\n",
       "                            \n",
       "var gd = document.getElementById('807ed3ee-0f71-498c-bb64-95540f96eb87');\n",
       "var x = new MutationObserver(function (mutations, observer) {{\n",
       "        var display = window.getComputedStyle(gd).display;\n",
       "        if (!display || display === 'none') {{\n",
       "            console.log([gd, 'removed!']);\n",
       "            Plotly.purge(gd);\n",
       "            observer.disconnect();\n",
       "        }}\n",
       "}});\n",
       "\n",
       "// Listen for the removal of the full notebook cells\n",
       "var notebookContainer = gd.closest('#notebook-container');\n",
       "if (notebookContainer) {{\n",
       "    x.observe(notebookContainer, {childList: true});\n",
       "}}\n",
       "\n",
       "// Listen for the clearing of the current output cell\n",
       "var outputEl = gd.closest('.output');\n",
       "if (outputEl) {{\n",
       "    x.observe(outputEl, {childList: true});\n",
       "}}\n",
       "\n",
       "                        })                };                });            </script>        </div>"
      ]
     },
     "metadata": {},
     "output_type": "display_data"
    }
   ],
   "source": [
    "country_inflations_6months_df = create_country_inflations_dataframe(country_avg_inflations_6months)\n",
    "fig = px.choropleth(country_inflations_6months_df, locations=\"country_code\",\n",
    "                    color=\"inflation\", \n",
    "                    hover_name=\"country\", \n",
    "                    color_continuous_scale=px.colors.sequential.Plasma)\n",
    "fig.show()"
   ]
  },
  {
   "cell_type": "markdown",
   "id": "xyNX-QRPyob1",
   "metadata": {
    "id": "xyNX-QRPyob1"
   },
   "source": [
    "## Commodity inflation analysis: basket of cereal goods"
   ]
  },
  {
   "cell_type": "markdown",
   "id": "8NBsUf76_ll-",
   "metadata": {
    "id": "8NBsUf76_ll-"
   },
   "source": [
    "### Normalize each price to be in price/kg"
   ]
  },
  {
   "cell_type": "code",
   "execution_count": 28,
   "id": "9CHpu7a6yGsr",
   "metadata": {
    "id": "9CHpu7a6yGsr"
   },
   "outputs": [],
   "source": [
    "# Remove data with uninterpretable (and less common) units (Cuartilla, Marmite)\n",
    "recent_cereal_data_without_cuartilla = recent_cereal_data[recent_cereal_data.um_name != \"Cuartilla\"]\n",
    "recent_cereal_data_cleaned = recent_cereal_data_without_cuartilla[recent_cereal_data_without_cuartilla.um_name != \"Marmite\"]"
   ]
  },
  {
   "cell_type": "code",
   "execution_count": 29,
   "id": "VUnoyZQdhVn4",
   "metadata": {
    "id": "VUnoyZQdhVn4"
   },
   "outputs": [],
   "source": [
    "cereal_unit_names = pd.unique(recent_cereal_data_cleaned['um_name'])"
   ]
  },
  {
   "cell_type": "code",
   "execution_count": 30,
   "id": "Ooj4XC40u_Nd",
   "metadata": {
    "id": "Ooj4XC40u_Nd"
   },
   "outputs": [],
   "source": [
    "def create_conversion_factors(unit_names):\n",
    "  conversion_factors = {}\n",
    "\n",
    "  for unit in unit_names:\n",
    "    conversion_factor = 1.0 # what we should multiply the price by to formulate as price/KG\n",
    "    if unit == \"KG\":\n",
    "      conversion_factor = 1.0\n",
    "    elif unit == \"Pound\" or unit == \"Libra\":\n",
    "      conversion_factor = 2.2\n",
    "    elif unit == \"MT\":\n",
    "      conversion_factor = 1.0/1000.0\n",
    "    elif unit == \"LCU/3.5kg\":\n",
    "      conversion_factor = 1.0/3.5\n",
    "    else:\n",
    "      # units are of the form \"[#] [unit]\" e.g. \"900 G\" or \"5 KG\"\n",
    "      unit_components = unit.split(\" \")\n",
    "      if len(unit_components) == 2:\n",
    "        if unit_components[1].lower() == \"g\":\n",
    "          num_grams = unit_components[0]\n",
    "          conversion_factor = 1000.0/float(num_grams)\n",
    "        elif unit_components[1].lower() == \"kg\":\n",
    "          num_kilograms = unit_components[0]\n",
    "          conversion_factor = 1.0/float(num_kilograms)\n",
    "        elif unit_components[1].lower() == \"pounds\":\n",
    "          num_pounds = unit_components[0]\n",
    "          conversion_factor = 2.2/float(num_pounds)\n",
    "    conversion_factors[unit] = conversion_factor\n",
    "\n",
    "  return conversion_factors"
   ]
  },
  {
   "cell_type": "code",
   "execution_count": 31,
   "id": "UYBqrNqQzB-E",
   "metadata": {
    "id": "UYBqrNqQzB-E"
   },
   "outputs": [],
   "source": [
    "conversion_factors = create_conversion_factors(cereal_unit_names)"
   ]
  },
  {
   "cell_type": "code",
   "execution_count": 32,
   "id": "5JDsP5XT2Y0a",
   "metadata": {
    "id": "5JDsP5XT2Y0a"
   },
   "outputs": [],
   "source": [
    "def normalize_price_to_kg(row):\n",
    "  original_price = row['mp_price']\n",
    "\n",
    "  unit = row['um_name']\n",
    "\n",
    "  conversion_factor = conversion_factors[unit]\n",
    "\n",
    "  if conversion_factor != None and original_price != None and original_price > 0:\n",
    "    price_per_kg = original_price * conversion_factor\n",
    "    return price_per_kg\n",
    "\n",
    "  else:\n",
    "    return original_price"
   ]
  },
  {
   "cell_type": "code",
   "execution_count": 33,
   "id": "HkH4EGOL1-R-",
   "metadata": {
    "colab": {
     "base_uri": "https://localhost:8080/"
    },
    "id": "HkH4EGOL1-R-",
    "outputId": "5a090369-f0c6-4f87-b01f-14a34615b375"
   },
   "outputs": [
    {
     "name": "stderr",
     "output_type": "stream",
     "text": [
      "<ipython-input-33-ca0b63c434f0>:1: SettingWithCopyWarning:\n",
      "\n",
      "\n",
      "A value is trying to be set on a copy of a slice from a DataFrame.\n",
      "Try using .loc[row_indexer,col_indexer] = value instead\n",
      "\n",
      "See the caveats in the documentation: https://pandas.pydata.org/pandas-docs/stable/user_guide/indexing.html#returning-a-view-versus-a-copy\n",
      "\n"
     ]
    }
   ],
   "source": [
    "recent_cereal_data_cleaned['mp_price_per_kg'] = recent_cereal_data_cleaned.apply (lambda row: normalize_price_to_kg(row), axis=1)"
   ]
  },
  {
   "cell_type": "code",
   "execution_count": 36,
   "id": "5-TtCs60y7YB",
   "metadata": {
    "id": "5-TtCs60y7YB"
   },
   "outputs": [],
   "source": [
    "def calculate_basket_inflation_statistic(start_month, start_year, end_month, end_year):\n",
    "  country_basket_inflations = {}\n",
    "  for country in countrylist:\n",
    "    print(country)\n",
    "\n",
    "    start_basket_price = 0\n",
    "    end_basket_price = 0\n",
    "    for commodity in cereal_commodity_list:\n",
    "      # Calculate average price of commodity in march 2021 \n",
    "      start_prices = recent_cereal_data_cleaned.query('adm0_name == @country & cm_name == @commodity & mp_year == @start_year & mp_month == @start_month')\n",
    "      start_prices[['adm0_name', 'mkt_name', 'cm_name', 'mp_year', 'mp_month', 'mp_price', 'um_name']]\n",
    "\n",
    "      if len(start_prices) == 0:\n",
    "        continue\n",
    "\n",
    "      start_avg_commodity_price = start_prices['mp_price_per_kg'].mean()\n",
    "\n",
    "      # Calculate average price of commodity in april 2021 \n",
    "      end_prices = recent_cereal_data_cleaned.query('adm0_name == @country & cm_name == @commodity & mp_year == @end_year & mp_month == @end_month')\n",
    "      end_prices[['adm0_name', 'mkt_name', 'cm_name', 'mp_year', 'mp_month', 'mp_price', 'um_name']]\n",
    "\n",
    "      if len(end_prices) == 0:\n",
    "        continue\n",
    "\n",
    "      end_avg_commodity_price = end_prices['mp_price_per_kg'].mean()\n",
    "\n",
    "      if start_avg_commodity_price > 0 and end_avg_commodity_price > 0:\n",
    "        start_basket_price = start_basket_price + start_avg_commodity_price\n",
    "        end_basket_price = end_basket_price + end_avg_commodity_price\n",
    "      else:\n",
    "        print(f'Skipping inclusion of {commodity} in basket for {country} because missing start or end price')\n",
    "\n",
    "    if start_basket_price != 0 and end_basket_price != 0:\n",
    "      print(f'START basket price: {start_basket_price}')\n",
    "      print(f'END basket price: {end_basket_price}')\n",
    "      basket_inflation = ((end_basket_price - start_basket_price)/start_basket_price) * 100.0\n",
    "      print(f'basket inflation: {basket_inflation}')\n",
    "      country_basket_inflations[country] = basket_inflation\n",
    "    else:\n",
    "      print('unable to calculate basket inflation')\n",
    "\n",
    "  return country_basket_inflations"
   ]
  },
  {
   "cell_type": "code",
   "execution_count": null,
   "id": "_Nwo-hPs2N2B",
   "metadata": {
    "colab": {
     "base_uri": "https://localhost:8080/"
    },
    "id": "_Nwo-hPs2N2B",
    "outputId": "844390a2-b918-4479-acb5-e15c9a2c3882"
   },
   "outputs": [
    {
     "name": "stdout",
     "output_type": "stream",
     "text": [
      "Afghanistan\n",
      "START basket price: 232.4264705882353\n",
      "END basket price: 234.3676470588235\n",
      "basket inflation: 0.8351787409047632\n",
      "Algeria\n",
      "unable to calculate basket inflation\n",
      "Angola\n",
      "unable to calculate basket inflation\n",
      "Argentina\n",
      "START basket price: 32.4972\n",
      "END basket price: 39.1419\n",
      "basket inflation: 20.44699235626454\n",
      "Armenia\n",
      "START basket price: 1132.2090909090912\n",
      "END basket price: 1241.2545454545457\n",
      "basket inflation: 9.631211710011797\n",
      "Azerbaijan\n",
      "unable to calculate basket inflation\n",
      "Bangladesh\n",
      "START basket price: 282.43369647824005\n",
      "END basket price: 290.6868346938776\n",
      "basket inflation: 2.922150691843313\n",
      "Bassas da India\n",
      "START basket price: 93.15392870637628\n",
      "END basket price: 96.71474917081261\n",
      "basket inflation: 3.8225123877063045\n",
      "Belarus\n",
      "unable to calculate basket inflation\n",
      "Benin\n",
      "START basket price: 3647.4808615981055\n",
      "END basket price: 3936.9178267520506\n",
      "basket inflation: 7.9352565821861845\n",
      "Bhutan\n",
      "START basket price: 75.5599\n",
      "END basket price: 70.0\n",
      "basket inflation: -7.358268076056214\n",
      "Bolivia\n"
     ]
    }
   ],
   "source": [
    "country_basket_inflations_6month = calculate_basket_inflation_statistic(10.0, 2020.0, 4.0, 2021.0)\n",
    "print(json.dumps(country_basket_inflations_6month, sort_keys=True, indent=4))"
   ]
  },
  {
   "cell_type": "code",
   "execution_count": null,
   "id": "ZpiDstejAs8j",
   "metadata": {
    "colab": {
     "base_uri": "https://localhost:8080/",
     "height": 678
    },
    "id": "ZpiDstejAs8j",
    "outputId": "15e755fb-ac6b-4aba-f808-1b50147efc81"
   },
   "outputs": [],
   "source": [
    "country_basket_inflations_6months_df = create_country_inflations_dataframe(country_basket_inflations_6month)\n",
    "fig = px.choropleth(country_basket_inflations_6months_df, locations=\"country_code\",\n",
    "                    color=\"inflation\", \n",
    "                    hover_name=\"country\", \n",
    "                    color_continuous_scale=px.colors.sequential.Plasma)\n",
    "fig.show()"
   ]
  }
 ],
 "metadata": {
  "colab": {
   "name": "Global Food Prices.ipynb",
   "provenance": []
  },
  "kernelspec": {
   "display_name": "Python 3",
   "language": "python",
   "name": "python3"
  },
  "language_info": {
   "codemirror_mode": {
    "name": "ipython",
    "version": 3
   },
   "file_extension": ".py",
   "mimetype": "text/x-python",
   "name": "python",
   "nbconvert_exporter": "python",
   "pygments_lexer": "ipython3",
   "version": "3.9.5"
  }
 },
 "nbformat": 4,
 "nbformat_minor": 5
}
